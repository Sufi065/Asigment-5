{
 "cells": [
  {
   "attachments": {},
   "cell_type": "markdown",
   "metadata": {},
   "source": [
    "Q1. Explain Class and Object with respect to Object-Oriented Programming. Give a suitable example."
   ]
  },
  {
   "attachments": {},
   "cell_type": "markdown",
   "metadata": {},
   "source": [
    "ans:-in Object-Oriented Programming(oop),a class is blueprint or template thatdefines the charcteristics(attributes)and behaviors (method) that an object os that class should have.it provideds a structure for creating objects.An objects.an objects,on the other hand,is an instance of class.it represents a specific entity that possesses the attributes and behaviors by its class."
   ]
  },
  {
   "cell_type": "code",
   "execution_count": 1,
   "metadata": {},
   "outputs": [],
   "source": [
    "class pwskill:\n",
    "    def __init__(sufi,phone_number,email_id,student_id) : ##self is not mandetry we take thin like a,b,sufi,etc....\n",
    "        sufi.phone_number=phone_number\n",
    "        sufi.email_id=email_id\n",
    "        sufi.student_id=student_id\n",
    "\n",
    "    def return_student_details(sufi):\n",
    "        return sufi.student_id,sufi.phone_number,sufi.email_id"
   ]
  },
  {
   "cell_type": "code",
   "execution_count": 2,
   "metadata": {},
   "outputs": [],
   "source": [
    "muskan=pwskill(6366258994,\"md103710@gmail.com\",103)"
   ]
  },
  {
   "cell_type": "code",
   "execution_count": 3,
   "metadata": {},
   "outputs": [
    {
     "data": {
      "text/plain": [
       "(103, 6366258994, 'md103710@gmail.com')"
      ]
     },
     "execution_count": 3,
     "metadata": {},
     "output_type": "execute_result"
    }
   ],
   "source": [
    "muskan.return_student_details()\n"
   ]
  },
  {
   "attachments": {},
   "cell_type": "markdown",
   "metadata": {},
   "source": [
    "\n",
    "Q2. Name the four pillars of OOPs."
   ]
  },
  {
   "attachments": {},
   "cell_type": "markdown",
   "metadata": {},
   "source": [
    "ans:-The four pillars of Object-Oriented Programming(OOP)are:\n"
   ]
  },
  {
   "attachments": {},
   "cell_type": "markdown",
   "metadata": {},
   "source": [
    "1.Encapsulation.\n",
    "2.Inheritance.\n",
    "3.Polymorphism.\n",
    "4.Abstraction."
   ]
  },
  {
   "attachments": {},
   "cell_type": "markdown",
   "metadata": {},
   "source": [
    "1.Encapsulation:-it is the mechanism of hiding the internal implementation details of an object and exposing only the essential information or functionality to the outside world.it helps in achieving data abstraction and security.\n",
    "Encapsulation is typically achieved by using classes modifiers."
   ]
  },
  {
   "cell_type": "code",
   "execution_count": 1,
   "metadata": {},
   "outputs": [],
   "source": [
    "class bank_accont:\n",
    "    def __init__(self,balance):\n",
    "        self.__balance=balance\n",
    "\n",
    "    def deposite(self,amount):\n",
    "        self.__balance=self.__balance+amount\n",
    "    def withdraw(self,amount):\n",
    "        if self.__balance>=amount:\n",
    "           self.__balance=self.__balance-amount\n",
    "           return True\n",
    "        else:\n",
    "            return False\n",
    "    def get_balance(self):\n",
    "        return self.__balance    "
   ]
  },
  {
   "cell_type": "code",
   "execution_count": 3,
   "metadata": {},
   "outputs": [],
   "source": [
    "sufi=bank_accont(9000)"
   ]
  },
  {
   "cell_type": "code",
   "execution_count": 4,
   "metadata": {},
   "outputs": [
    {
     "data": {
      "text/plain": [
       "9000"
      ]
     },
     "execution_count": 4,
     "metadata": {},
     "output_type": "execute_result"
    }
   ],
   "source": [
    "sufi.get_balance()"
   ]
  },
  {
   "cell_type": "code",
   "execution_count": 5,
   "metadata": {},
   "outputs": [
    {
     "data": {
      "text/plain": [
       "True"
      ]
     },
     "execution_count": 5,
     "metadata": {},
     "output_type": "execute_result"
    }
   ],
   "source": [
    "sufi.withdraw(5000)"
   ]
  },
  {
   "cell_type": "code",
   "execution_count": 6,
   "metadata": {},
   "outputs": [
    {
     "data": {
      "text/plain": [
       "4000"
      ]
     },
     "execution_count": 6,
     "metadata": {},
     "output_type": "execute_result"
    }
   ],
   "source": [
    "sufi.get_balance()"
   ]
  },
  {
   "attachments": {},
   "cell_type": "markdown",
   "metadata": {},
   "source": [
    "\n",
    "   2.Inheritance:-It is the process of creating new classes(derived classes) from existing classes(base or parent classes).The derived classes inherit the attributes and behaviors of base class,allowing code reuse and promoting a hierachical structure.\n",
    "   "
   ]
  },
  {
   "attachments": {},
   "cell_type": "markdown",
   "metadata": {
    "notebookRunGroups": {
     "groupValue": "1"
    }
   },
   "source": [
    "3. Polymorphism: It refers to the ability of objects of different classes to respond to the same message or method invocation in\n",
    "different ways. Polymorphism allows objects of different types to be treated as objects of a common base class. It enables the use of a single interface to represent multiple related classes. Polymorphism improves code flexibility, extensibility, and modularity."
   ]
  },
  {
   "attachments": {},
   "cell_type": "markdown",
   "metadata": {},
   "source": [
    "\n",
    "4. Abstraction: It involves representing the essential features of an object or a system while hiding the unnecessary details. Abstraction simplifies complex systems by breaking them down into smaller, more manageable parts. It focuses on what an object does rather than how it does it. Abstraction helps in managing the complexity of large software systems and provides a clear separation between the interface and implementation details of a class."
   ]
  },
  {
   "attachments": {},
   "cell_type": "markdown",
   "metadata": {},
   "source": [
    "Q3. Explain why the _init_() function is used. Give a suitable example."
   ]
  },
  {
   "attachments": {},
   "cell_type": "markdown",
   "metadata": {},
   "source": [
    "ans:- The `__init__()` function, also known as the constructor, is used in object-oriented programming to initialize the attributes of an object when it is created from a class. It is automatically called when a new instance of the class is created.\n",
    "\n",
    "The `__init__()` function allows you to set initial values for the attributes of an object. It takes the `self` parameter, which represents the instance of the class, and other parameters that are used to initialize the attributes. Inside the `__init__()` function, you can assign the passed values to the object's attributes."
   ]
  },
  {
   "cell_type": "code",
   "execution_count": null,
   "metadata": {},
   "outputs": [],
   "source": [
    "\n",
    "class Person:\n",
    "    def __init__(self, name, age):\n",
    "        self.name = name\n",
    "        self.age = age\n",
    "\n",
    "person1 = Person(\"sufi\", 19)\n",
    "print(person1.name)  # Output: sufi\n",
    "print(person1.age)   # Output: 19"
   ]
  },
  {
   "attachments": {},
   "cell_type": "markdown",
   "metadata": {},
   "source": [
    "Q4. Why self is used in OOPs?"
   ]
  },
  {
   "attachments": {},
   "cell_type": "markdown",
   "metadata": {},
   "source": [
    "ans:-In object-oriented programming (OOP), the `self` keyword is used as a reference to the instance of a class. It is a convention in many programming languages, including Python, to use `self` as the name of the first parameter in method definitions within a class.\n",
    "\n",
    "The purpose of `self` is to represent the instance itself within the class. It allows access to the instance's attributes and methods. When a method is called on an object, the `self` parameter allows the method to operate on the specific instance of the class to which the method belongs.\n",
    "\n",
    "Here are a few reasons why `self` is used in OOP:\n",
    "\n",
    "1. Accessing instance attributes: By using `self`, you can access and modify the instance's attributes within the class. It allows you to distinguish between the instance's attributes and local variables within the method.\n",
    "\n",
    "2. Calling other methods: `self` is used to call other methods of the class from within a method. It allows you to invoke other behaviors or operations on the instance.\n",
    "\n",
    "3. Creating and managing state: `self` is essential for managing the state of an object. It provides a way to store and retrieve data specific to each instance of a class. Each instance can have its own set of attribute values, and `self` helps in referring to those attributes.\n",
    "\n",
    "4. Differentiating between instances: In a class, multiple instances can be created, and each instance has its own unique set of attributes and behaviors. `self` helps in differentiating one instance from another by referencing the specific instance on which a method is called.\n",
    "\n",
    "In Python, the use of `self` is a convention, but you can use any name for the first parameter of a method. However, it is highly recommended to stick with the convention and use `self` to maintain code readability and consistency with other Python developers."
   ]
  },
  {
   "attachments": {},
   "cell_type": "markdown",
   "metadata": {},
   "source": [
    "Q5. What is inheritance? Give an example for each type of inheritance."
   ]
  },
  {
   "attachments": {},
   "cell_type": "markdown",
   "metadata": {},
   "source": [
    "ans:- Inheritance is a fundamental concept in object-oriented programming (OOP) that allows classes to inherit properties and methods from other classes. It enables code reusability, promotes a hierarchical structure, and facilitates the creation of relationships between classes.\n",
    "\n",
    "In OOP, there are several types of inheritance:\n",
    "\n",
    "1. Single Inheritance:\n",
    "   Single inheritance refers to a class inheriting properties and methods from a single parent class. The derived class, also known as the subclass or child class, extends the functionality of the parent class. An example could be a class hierarchy representing different types of vehicles:"
   ]
  },
  {
   "cell_type": "code",
   "execution_count": 7,
   "metadata": {},
   "outputs": [
    {
     "name": "stdout",
     "output_type": "stream",
     "text": [
      "Toyota\n",
      "Accelerating...\n"
     ]
    }
   ],
   "source": [
    "class Vehicle:\n",
    "       def __init__(self, brand):\n",
    "           self.brand = brand\n",
    "       \n",
    "       def get_brand(self):\n",
    "           return self.brand\n",
    "       \n",
    "       def accelerate(self):\n",
    "           print(\"Accelerating...\")\n",
    "   \n",
    "class Car(Vehicle):\n",
    "       def __init__(self, brand, model):\n",
    "           super().__init__(brand)\n",
    "           self.model = model\n",
    "       \n",
    "       def get_model(self):\n",
    "           return self.model\n",
    "   \n",
    "my_car = Car(\"Toyota\", \"Camry\")\n",
    "print(my_car.get_brand())  # Output: Toyota\n",
    "my_car.accelerate()        # Output: Accelerating..."
   ]
  },
  {
   "attachments": {},
   "cell_type": "markdown",
   "metadata": {},
   "source": [
    "\n",
    "2. Multiple Inheritance:\n",
    "   Multiple inheritance allows a class to inherit properties and methods from multiple parent classes. The derived class inherits and combines the attributes and behaviors of all the parent classes. Here's an example:"
   ]
  },
  {
   "cell_type": "code",
   "execution_count": 5,
   "metadata": {},
   "outputs": [
    {
     "name": "stdout",
     "output_type": "stream",
     "text": [
      "Sparrow\n",
      "Eating...\n",
      "Flying...\n"
     ]
    }
   ],
   "source": [
    "class Animal:\n",
    "       def __init__(self, name):\n",
    "           self.name = name\n",
    "       \n",
    "       def eat(self):\n",
    "           print(\"Eating...\")\n",
    "   \n",
    "class Flyable:\n",
    "       def fly(self):\n",
    "           print(\"Flying...\")\n",
    "   \n",
    "class Bird(Animal, Flyable):\n",
    "       def __init__(self, name):\n",
    "           super().__init__(name)\n",
    "   \n",
    "my_bird = Bird(\"Sparrow\")\n",
    "print(my_bird.name)   # Output: Sparrow\n",
    "my_bird.eat()         # Output: Eating...\n",
    "my_bird.fly()         # Output: Flying..."
   ]
  },
  {
   "attachments": {},
   "cell_type": "markdown",
   "metadata": {},
   "source": [
    "\n",
    "3. Multilevel Inheritance:\n",
    "   Multilevel inheritance occurs when a derived class inherits from another derived class. The derived class further extends the functionality of its parent class. Here's an example:"
   ]
  },
  {
   "cell_type": "code",
   "execution_count": 6,
   "metadata": {},
   "outputs": [
    {
     "name": "stdout",
     "output_type": "stream",
     "text": [
      "Breathing...\n",
      "Giving birth...\n",
      "Swimming...\n"
     ]
    }
   ],
   "source": [
    "class Animal:\n",
    "       def breathe(self):\n",
    "           print(\"Breathing...\")\n",
    "   \n",
    "class Mammal(Animal):\n",
    "       def give_birth(self):\n",
    "           print(\"Giving birth...\")\n",
    "   \n",
    "class Whale(Mammal):\n",
    "       def swim(self):\n",
    "           print(\"Swimming...\")\n",
    "   \n",
    "my_whale = Whale()\n",
    "my_whale.breathe()     # Output: Breathing...\n",
    "my_whale.give_birth()  # Output: Giving birth...\n",
    "my_whale.swim()        # Output: Swimming..."
   ]
  }
 ],
 "metadata": {
  "kernelspec": {
   "display_name": "Python 3",
   "language": "python",
   "name": "python3"
  },
  "language_info": {
   "codemirror_mode": {
    "name": "ipython",
    "version": 3
   },
   "file_extension": ".py",
   "mimetype": "text/x-python",
   "name": "python",
   "nbconvert_exporter": "python",
   "pygments_lexer": "ipython3",
   "version": "3.11.1"
  },
  "orig_nbformat": 4,
  "vscode": {
   "interpreter": {
    "hash": "481bfa5b6443806f4cd83166895ddb7a3b5ee0fa6ee578ae2e343af4e3c5d16e"
   }
  }
 },
 "nbformat": 4,
 "nbformat_minor": 2
}
